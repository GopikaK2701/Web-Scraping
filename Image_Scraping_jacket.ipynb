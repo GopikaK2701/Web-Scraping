{
 "cells": [
  {
   "cell_type": "code",
   "execution_count": 10,
   "id": "96499471",
   "metadata": {},
   "outputs": [],
   "source": [
    "from bs4 import *\n",
    "import requests as rq\n",
    "import os\n",
    "\n",
    "r1 = rq.get(\"https://www.freeimages.com/search/safety-vest\")\n",
    "r2 = rq.get(\"https://www.freeimages.com/search/safety-vest/2\")\n",
    "r3 = rq.get(\"https://www.freeimages.com/search/safety-vest/3\")\n",
    "r4 = rq.get(\"https://www.freeimages.com/search/safety-vest/4\")\n",
    "\n",
    "soup1 = BeautifulSoup(r1.text, \"html.parser\")\n",
    "soup2 = BeautifulSoup(r2.text, \"html.parser\")\n",
    "soup3 = BeautifulSoup(r3.text, \"html.parser\")\n",
    "soup4 = BeautifulSoup(r4.text, \"html.parser\")\n",
    "\n",
    "\n",
    "links=[]\n",
    "\n",
    "x1 = soup1.select('img[src^=\"https://images.freeimages.com\"]')\n",
    "x2 = soup2.select('img[src^=\"https://images.freeimages.com\"]')\n",
    "x3 = soup3.select('img[src^=\"https://images.freeimages.com\"]')\n",
    "x4 = soup4.select('img[src^=\"https://images.freeimages.com\"]')\n",
    "\n",
    "\n",
    "\n",
    "\n",
    "for img in x1:\n",
    "    links.append(img['src'])\n",
    "for img in x2:\n",
    "    links.append(img['src'])\n",
    "for img in x3:\n",
    "    links.append(img['src'])\n",
    "for img in x4:\n",
    "    links.append(img['src'])\n",
    "\n",
    "\n",
    "os.makedirs('basedata/training/jacket')\n",
    "i=601\n",
    "for index, img_link in enumerate(links):\n",
    "    if i<=1000:\n",
    "        img_data = rq.get(img_link).content\n",
    "        with open('basedata/training/jacket//'+str(i)+'.jpg','wb+') as f:\n",
    "            f.write(img_data)\n",
    "        i+=1\n",
    "    else:\n",
    "        f.close()\n",
    "        break  "
   ]
  },
  {
   "cell_type": "code",
   "execution_count": null,
   "id": "988bcb2c",
   "metadata": {},
   "outputs": [],
   "source": []
  }
 ],
 "metadata": {
  "kernelspec": {
   "display_name": "Python 3 (ipykernel)",
   "language": "python",
   "name": "python3"
  },
  "language_info": {
   "codemirror_mode": {
    "name": "ipython",
    "version": 3
   },
   "file_extension": ".py",
   "mimetype": "text/x-python",
   "name": "python",
   "nbconvert_exporter": "python",
   "pygments_lexer": "ipython3",
   "version": "3.10.0"
  }
 },
 "nbformat": 4,
 "nbformat_minor": 5
}
